{
 "cells": [
  {
   "cell_type": "markdown",
   "id": "3b6a2daa",
   "metadata": {},
   "source": [
    "1)Count all letters, digits, and special symbols from a given\n",
    "string\n",
    "str1 = \"I@#ma26rt^&ic5us\"\n"
   ]
  },
  {
   "cell_type": "code",
   "execution_count": 216,
   "id": "394ebb21",
   "metadata": {},
   "outputs": [
    {
     "name": "stdout",
     "output_type": "stream",
     "text": [
      "special charecters 4\n",
      " numbers 3\n",
      "alphabets 9\n"
     ]
    }
   ],
   "source": [
    "str1 = \"I@#ma26rt^&ic5us\"\n",
    "sepcial_sym =\"~`!@#$%^&*\"\n",
    "digits=\"1234567890\"\n",
    "letters=\"qwertyuiopasdfghjklzxcvbnmQWERTYUIOPASDFGHJKLZXCVBNM\"\n",
    "alpha,chars,num=0,0,0\n",
    "for i in str1:\n",
    "    if i in sepcial_sym:\n",
    "        chars+=1\n",
    "    elif i in digits:\n",
    "        num+=1\n",
    "    elif i in letters:\n",
    "        alpha+=1\n",
    "print(\"special charecters\",chars)\n",
    "print(\" numbers\",num)\n",
    "print(\"alphabets\",alpha)"
   ]
  },
  {
   "cell_type": "markdown",
   "id": "950ac00c",
   "metadata": {},
   "source": [
    "2)Write a Python program to find numbers divisible by\n",
    "nineteen or thirteen from a list of numbers using Lambda.\n",
    "a=[19, 65, 57, 39, 152, 639, 121, 44, 90, 190]"
   ]
  },
  {
   "cell_type": "code",
   "execution_count": 160,
   "id": "47f8cea4",
   "metadata": {},
   "outputs": [
    {
     "data": {
      "text/plain": [
       "[19, 65, 57, 39, 152, 190]"
      ]
     },
     "execution_count": 160,
     "metadata": {},
     "output_type": "execute_result"
    }
   ],
   "source": [
    "a=[19, 65, 57, 39, 152, 639, 121, 44, 90, 190]\n",
    "b=lambda x:(x%19==0) or (x%13==0)\n",
    "c=list(filter(b,a))\n",
    "c"
   ]
  },
  {
   "cell_type": "markdown",
   "id": "fd1fbe0d",
   "metadata": {},
   "source": [
    "3)Find all of the words in a string that are less than 5 letters.\n",
    "string = \"Practice Problems to Drill List Comprehension in\n",
    "Your Head.\""
   ]
  },
  {
   "cell_type": "code",
   "execution_count": 268,
   "id": "2e7150e0",
   "metadata": {},
   "outputs": [
    {
     "name": "stdout",
     "output_type": "stream",
     "text": [
      "['to', 'List', 'in', 'Your', 'Head']\n"
     ]
    }
   ],
   "source": [
    "string = \"Practice Problems to Drill List Comprehension in Your Head.\"\n",
    "b=string.split()\n",
    "a=[]\n",
    "for i in b :\n",
    "    if len(i)<5:\n",
    "        a.append(i)\n",
    "    for j in i:\n",
    "        if j==\".\":\n",
    "            a.append(i.split(\".\")[0])\n",
    "print(a)"
   ]
  },
  {
   "cell_type": "markdown",
   "id": "b5c07d66",
   "metadata": {},
   "source": [
    "4)Calculate income tax for the given income by adhering to the\n",
    "below rules:\n",
    "Taxable income Rate (in %)\n",
    "First $10,000   0\n",
    "Next $10,000   10\n",
    "The remaining  20\n",
    "Expected Output:\n",
    "For example, suppose the taxable income is 45000 the\n",
    "income tax payable is:\n",
    "10000 0% + 10000 10% + 25000 20% = $6000.\n"
   ]
  },
  {
   "cell_type": "code",
   "execution_count": 303,
   "id": "e110b245",
   "metadata": {},
   "outputs": [
    {
     "data": {
      "text/plain": [
       "6000.0"
      ]
     },
     "execution_count": 303,
     "metadata": {},
     "output_type": "execute_result"
    }
   ],
   "source": [
    "def income_tax(income):\n",
    "    income_tax=((0*10000)+(0.1*10000)+(0.2*(income-20000)))\n",
    "    return income_tax\n",
    "income_tax(45000)"
   ]
  },
  {
   "cell_type": "code",
   "execution_count": 294,
   "id": "a4bf0c47",
   "metadata": {},
   "outputs": [
    {
     "name": "stdout",
     "output_type": "stream",
     "text": [
      "Income tax payable for $ 45000 is $ 6000.0\n"
     ]
    }
   ],
   "source": [
    "def calculate_income_tax(income):\n",
    "    tax = 0\n",
    "    if income > 20000:\n",
    "        tax += 10000 * 0\n",
    "        income -= 10000\n",
    "    else:\n",
    "        tax += income * 0\n",
    "        return tax\n",
    "    \n",
    "    if income > 20000:\n",
    "        tax += 10000 * 0.10\n",
    "        income -= 10000\n",
    "    else:\n",
    "        tax += income * 0.10\n",
    "        return tax\n",
    "    \n",
    "    tax += income * 0.20\n",
    "    return tax\n",
    "\n",
    "# Example usage:\n",
    "income = 45000\n",
    "income_tax = calculate_income_tax(income)\n",
    "print(\"Income tax payable for $\", income, \"is $\", income_tax)\n"
   ]
  },
  {
   "cell_type": "markdown",
   "id": "f0913e1a",
   "metadata": {},
   "source": [
    "5)Given below are the list of positive and negative words. Also,\n",
    "a list of tweets is provided. Separate out the positive and\n",
    "negative comments.\n",
    "positive = ['good','awesome', 'best', 'nice']\n",
    "negative = ['worst','awful', 'bad']\n",
    "tweets = ['This government policies are good', 'bad\n",
    "implementation', 'The way he played showed that he is one\n",
    "of the best players in the world', 'Her acting in the play was\n",
    "awesome', 'The wine tastes awful', 'It's nice to hear this little "
   ]
  },
  {
   "cell_type": "code",
   "execution_count": 147,
   "id": "7ca9e978",
   "metadata": {},
   "outputs": [
    {
     "name": "stdout",
     "output_type": "stream",
     "text": [
      "THE POSITIVE COMMENTS ARE:  ['This government policies are good', 'The way he played showed that he is one of the best players in the world', 'Her acting in the play was awesome', \"It's nice to hear this little kid's laugh\"]\n",
      " THE NEGATIVE COMMENTS ARE: ['bad implementation', 'The wine tastes awful']\n"
     ]
    }
   ],
   "source": [
    "tweets = [\"This government policies are good\", \"bad implementation\", \n",
    "          \"The way he played showed that he is one of the best players in the world\",\n",
    "          \"Her acting in the play was awesome\", \"The wine tastes awful\",\n",
    "          \"It's nice to hear this little kid's laugh\"]\n",
    "positive = ['good','awesome', 'best', 'nice']\n",
    "negative = ['worst','awful', 'bad']\n",
    "pos_com=[]\n",
    "neg_com=[]\n",
    "for i in tweets:\n",
    "    for j in positive:\n",
    "        if j in i:\n",
    "            pos_com.append(i)\n",
    "print(\"THE POSITIVE COMMENTS ARE: \",pos_com)\n",
    "print(end=\" \")\n",
    "for i in tweets:\n",
    "    for j in negative:\n",
    "        if j in i:\n",
    "            neg_com.append(i)\n",
    "print(\"THE NEGATIVE COMMENTS ARE:\",neg_com)"
   ]
  },
  {
   "cell_type": "markdown",
   "id": "e202d3f1",
   "metadata": {},
   "source": [
    "6)Extend nested list by adding the sublist.\n",
    "You have given a nested list. Write a program to extend it by\n",
    "adding the sublist [\"h\", \"i\", \"j\"] in such a way that it will look\n",
    "like the following list.\n",
    "list1 = [\"a\", \"b\", [\"c\", [\"d\", \"e\", [\"f\", \"g\"], \"k\"], \"l\"], \"m\", \"n\"]\n",
    "sub list to add\n",
    "sub_list = [\"h\", \"i\", \"j\"]\n",
    "expected output =['a', 'b', ['c', ['d', 'e', ['f', 'g', 'h', 'i', 'j'], 'k'], 'l'],\n",
    "'m', 'n']"
   ]
  },
  {
   "cell_type": "code",
   "execution_count": 175,
   "id": "5434487c",
   "metadata": {},
   "outputs": [
    {
     "name": "stdout",
     "output_type": "stream",
     "text": [
      "['a', 'b', ['c', ['d', 'e', ['f', 'g', ['h', 'i', 'j']], 'k'], 'l'], 'm', 'n']\n"
     ]
    }
   ],
   "source": [
    "list1 = [\"a\", \"b\", [\"c\", [\"d\", \"e\", [\"f\", \"g\"], \"k\"], \"l\"], \"m\", \"n\"]\n",
    "sub_list = [\"h\", \"i\", \"j\"]\n",
    "list1[2][1][2].append(sub_list)\n",
    "print(list1)"
   ]
  },
  {
   "cell_type": "markdown",
   "id": "5f97ae21",
   "metadata": {},
   "source": [
    "7)Remove and add item in a list.\n",
    "Write a program to remove the item present at index 4 and\n",
    "add it to the 2nd position and at the end of the list.\n",
    "list1 = [54, 44, 27, 79, 91, 41]"
   ]
  },
  {
   "cell_type": "code",
   "execution_count": 203,
   "id": "dd8abbdc",
   "metadata": {},
   "outputs": [
    {
     "name": "stdout",
     "output_type": "stream",
     "text": [
      "The new list is [54, 91, 44, 27, 79, 41, 91]\n"
     ]
    }
   ],
   "source": [
    "list1 = [54, 44, 27, 79, 91, 41]\n",
    "a=list1.pop(4)\n",
    "list1.insert(1,a)\n",
    "list1.insert(len(list1),a)\n",
    "print(\"The new list is\",list1)"
   ]
  },
  {
   "cell_type": "markdown",
   "id": "9e9cddd4",
   "metadata": {},
   "source": [
    "8)Load the iris dataset and Find only those records whose sepal_length = 5.1 and sepal_width = 3.5\n"
   ]
  },
  {
   "cell_type": "code",
   "execution_count": 291,
   "id": "fa2b158b",
   "metadata": {},
   "outputs": [
    {
     "data": {
      "text/html": [
       "<div>\n",
       "<style scoped>\n",
       "    .dataframe tbody tr th:only-of-type {\n",
       "        vertical-align: middle;\n",
       "    }\n",
       "\n",
       "    .dataframe tbody tr th {\n",
       "        vertical-align: top;\n",
       "    }\n",
       "\n",
       "    .dataframe thead th {\n",
       "        text-align: right;\n",
       "    }\n",
       "</style>\n",
       "<table border=\"1\" class=\"dataframe\">\n",
       "  <thead>\n",
       "    <tr style=\"text-align: right;\">\n",
       "      <th></th>\n",
       "      <th>sepal_length</th>\n",
       "      <th>sepal_width</th>\n",
       "      <th>petal_length</th>\n",
       "      <th>petal_width</th>\n",
       "      <th>species</th>\n",
       "    </tr>\n",
       "  </thead>\n",
       "  <tbody>\n",
       "    <tr>\n",
       "      <th>0</th>\n",
       "      <td>5.1</td>\n",
       "      <td>3.5</td>\n",
       "      <td>1.4</td>\n",
       "      <td>0.2</td>\n",
       "      <td>setosa</td>\n",
       "    </tr>\n",
       "    <tr>\n",
       "      <th>17</th>\n",
       "      <td>5.1</td>\n",
       "      <td>3.5</td>\n",
       "      <td>1.4</td>\n",
       "      <td>0.3</td>\n",
       "      <td>setosa</td>\n",
       "    </tr>\n",
       "  </tbody>\n",
       "</table>\n",
       "</div>"
      ],
      "text/plain": [
       "    sepal_length  sepal_width  petal_length  petal_width species\n",
       "0            5.1          3.5           1.4          0.2  setosa\n",
       "17           5.1          3.5           1.4          0.3  setosa"
      ]
     },
     "execution_count": 291,
     "metadata": {},
     "output_type": "execute_result"
    }
   ],
   "source": [
    "import seaborn as sns\n",
    "df=sns.load_dataset(\"iris\")\n",
    "df[(df[\"sepal_length\"]==5.1) & (df[\"sepal_width\"]==3.5)]"
   ]
  },
  {
   "cell_type": "markdown",
   "id": "f4d7b519",
   "metadata": {},
   "source": [
    "9)Check for Maximum petal_length and convert it in to 7.2 and min petal_length and convert it in to 1.2\n"
   ]
  },
  {
   "cell_type": "code",
   "execution_count": 292,
   "id": "1fe1a969",
   "metadata": {},
   "outputs": [
    {
     "data": {
      "text/plain": [
       "6.9"
      ]
     },
     "execution_count": 292,
     "metadata": {},
     "output_type": "execute_result"
    }
   ],
   "source": [
    "df.petal_length.max()"
   ]
  },
  {
   "cell_type": "code",
   "execution_count": 283,
   "id": "da822328",
   "metadata": {},
   "outputs": [
    {
     "data": {
      "text/plain": [
       "1.0"
      ]
     },
     "execution_count": 283,
     "metadata": {},
     "output_type": "execute_result"
    }
   ],
   "source": [
    "df.petal_length.min()"
   ]
  },
  {
   "cell_type": "code",
   "execution_count": 284,
   "id": "233121a6",
   "metadata": {
    "scrolled": true
   },
   "outputs": [
    {
     "data": {
      "text/html": [
       "<div>\n",
       "<style scoped>\n",
       "    .dataframe tbody tr th:only-of-type {\n",
       "        vertical-align: middle;\n",
       "    }\n",
       "\n",
       "    .dataframe tbody tr th {\n",
       "        vertical-align: top;\n",
       "    }\n",
       "\n",
       "    .dataframe thead th {\n",
       "        text-align: right;\n",
       "    }\n",
       "</style>\n",
       "<table border=\"1\" class=\"dataframe\">\n",
       "  <thead>\n",
       "    <tr style=\"text-align: right;\">\n",
       "      <th></th>\n",
       "      <th>sepal_length</th>\n",
       "      <th>sepal_width</th>\n",
       "      <th>petal_length</th>\n",
       "      <th>petal_width</th>\n",
       "      <th>species</th>\n",
       "    </tr>\n",
       "  </thead>\n",
       "  <tbody>\n",
       "    <tr>\n",
       "      <th>0</th>\n",
       "      <td>5.1</td>\n",
       "      <td>3.5</td>\n",
       "      <td>1.4</td>\n",
       "      <td>0.2</td>\n",
       "      <td>setosa</td>\n",
       "    </tr>\n",
       "    <tr>\n",
       "      <th>1</th>\n",
       "      <td>4.9</td>\n",
       "      <td>3.0</td>\n",
       "      <td>1.4</td>\n",
       "      <td>0.2</td>\n",
       "      <td>setosa</td>\n",
       "    </tr>\n",
       "  </tbody>\n",
       "</table>\n",
       "</div>"
      ],
      "text/plain": [
       "   sepal_length  sepal_width  petal_length  petal_width species\n",
       "0           5.1          3.5           1.4          0.2  setosa\n",
       "1           4.9          3.0           1.4          0.2  setosa"
      ]
     },
     "execution_count": 284,
     "metadata": {},
     "output_type": "execute_result"
    }
   ],
   "source": [
    "df.head(2)"
   ]
  },
  {
   "cell_type": "code",
   "execution_count": 293,
   "id": "b279939c",
   "metadata": {},
   "outputs": [
    {
     "name": "stdout",
     "output_type": "stream",
     "text": [
      "new max petal length 7.2\n",
      "new min petal length 1.1\n"
     ]
    }
   ],
   "source": [
    "a=df.petal_length.max()\n",
    "b=df.petal_length.min()\n",
    "max_petal_length = 7.2\n",
    "min_petal_length = 1.2\n",
    "\n",
    "df.loc[df[\"petal_length\"] == df.iloc[::,2].max()] = max_petal_length\n",
    "df.iloc[::,2].max()\n",
    "\n",
    "df.loc[df[\"petal_length\"] == df.iloc[::,2].min()] = min_petal_length\n",
    "df.iloc[::,2].min()\n",
    "\n",
    "print(\"new max petal length\",df.iloc[::,2].max())\n",
    "print(\"new min petal length\",df.iloc[::,2].min())"
   ]
  },
  {
   "cell_type": "markdown",
   "id": "bdc0fb5a",
   "metadata": {},
   "source": [
    "10)Perform right join to combine values based on the 'ID' in the\n",
    "two dataframes.\n",
    "Use the dataframe given below, read the DataFrame with the\n",
    "help of clipboard function.\n"
   ]
  },
  {
   "cell_type": "code",
   "execution_count": 261,
   "id": "d65e060d",
   "metadata": {},
   "outputs": [
    {
     "data": {
      "text/html": [
       "<div>\n",
       "<style scoped>\n",
       "    .dataframe tbody tr th:only-of-type {\n",
       "        vertical-align: middle;\n",
       "    }\n",
       "\n",
       "    .dataframe tbody tr th {\n",
       "        vertical-align: top;\n",
       "    }\n",
       "\n",
       "    .dataframe thead th {\n",
       "        text-align: right;\n",
       "    }\n",
       "</style>\n",
       "<table border=\"1\" class=\"dataframe\">\n",
       "  <thead>\n",
       "    <tr style=\"text-align: right;\">\n",
       "      <th></th>\n",
       "      <th>ID</th>\n",
       "      <th>Candidate_Name</th>\n",
       "      <th>Subject</th>\n",
       "    </tr>\n",
       "  </thead>\n",
       "  <tbody>\n",
       "    <tr>\n",
       "      <th>0</th>\n",
       "      <td>101</td>\n",
       "      <td>Alex</td>\n",
       "      <td>History</td>\n",
       "    </tr>\n",
       "    <tr>\n",
       "      <th>1</th>\n",
       "      <td>102</td>\n",
       "      <td>Amy</td>\n",
       "      <td>English</td>\n",
       "    </tr>\n",
       "    <tr>\n",
       "      <th>2</th>\n",
       "      <td>103</td>\n",
       "      <td>Allen</td>\n",
       "      <td>Geography</td>\n",
       "    </tr>\n",
       "    <tr>\n",
       "      <th>3</th>\n",
       "      <td>104</td>\n",
       "      <td>Alice</td>\n",
       "      <td>German</td>\n",
       "    </tr>\n",
       "    <tr>\n",
       "      <th>4</th>\n",
       "      <td>105</td>\n",
       "      <td>James</td>\n",
       "      <td>History</td>\n",
       "    </tr>\n",
       "    <tr>\n",
       "      <th>5</th>\n",
       "      <td>106</td>\n",
       "      <td>Sara</td>\n",
       "      <td>German</td>\n",
       "    </tr>\n",
       "    <tr>\n",
       "      <th>6</th>\n",
       "      <td>107</td>\n",
       "      <td>Mia</td>\n",
       "      <td>English</td>\n",
       "    </tr>\n",
       "  </tbody>\n",
       "</table>\n",
       "</div>"
      ],
      "text/plain": [
       "    ID Candidate_Name    Subject\n",
       "0  101           Alex    History\n",
       "1  102            Amy    English\n",
       "2  103          Allen  Geography\n",
       "3  104          Alice     German\n",
       "4  105          James    History\n",
       "5  106           Sara     German\n",
       "6  107            Mia    English"
      ]
     },
     "execution_count": 261,
     "metadata": {},
     "output_type": "execute_result"
    }
   ],
   "source": [
    "import pandas as pd\n",
    "df1=pd.read_clipboard()\n",
    "df1"
   ]
  },
  {
   "cell_type": "code",
   "execution_count": 262,
   "id": "7b3d90ef",
   "metadata": {},
   "outputs": [
    {
     "data": {
      "text/html": [
       "<div>\n",
       "<style scoped>\n",
       "    .dataframe tbody tr th:only-of-type {\n",
       "        vertical-align: middle;\n",
       "    }\n",
       "\n",
       "    .dataframe tbody tr th {\n",
       "        vertical-align: top;\n",
       "    }\n",
       "\n",
       "    .dataframe thead th {\n",
       "        text-align: right;\n",
       "    }\n",
       "</style>\n",
       "<table border=\"1\" class=\"dataframe\">\n",
       "  <thead>\n",
       "    <tr style=\"text-align: right;\">\n",
       "      <th></th>\n",
       "      <th>ID</th>\n",
       "      <th>City</th>\n",
       "      <th>Subject_Score</th>\n",
       "    </tr>\n",
       "  </thead>\n",
       "  <tbody>\n",
       "    <tr>\n",
       "      <th>0</th>\n",
       "      <td>101</td>\n",
       "      <td>Delhi</td>\n",
       "      <td>89</td>\n",
       "    </tr>\n",
       "    <tr>\n",
       "      <th>1</th>\n",
       "      <td>102</td>\n",
       "      <td>Mumbai</td>\n",
       "      <td>78</td>\n",
       "    </tr>\n",
       "    <tr>\n",
       "      <th>2</th>\n",
       "      <td>103</td>\n",
       "      <td>Delhi</td>\n",
       "      <td>77</td>\n",
       "    </tr>\n",
       "    <tr>\n",
       "      <th>3</th>\n",
       "      <td>104</td>\n",
       "      <td>Chennai</td>\n",
       "      <td>87</td>\n",
       "    </tr>\n",
       "    <tr>\n",
       "      <th>4</th>\n",
       "      <td>105</td>\n",
       "      <td>Hyderabad</td>\n",
       "      <td>87</td>\n",
       "    </tr>\n",
       "    <tr>\n",
       "      <th>5</th>\n",
       "      <td>108</td>\n",
       "      <td>Delhi</td>\n",
       "      <td>84</td>\n",
       "    </tr>\n",
       "  </tbody>\n",
       "</table>\n",
       "</div>"
      ],
      "text/plain": [
       "    ID       City  Subject_Score\n",
       "0  101      Delhi             89\n",
       "1  102     Mumbai             78\n",
       "2  103      Delhi             77\n",
       "3  104    Chennai             87\n",
       "4  105  Hyderabad             87\n",
       "5  108      Delhi             84"
      ]
     },
     "execution_count": 262,
     "metadata": {},
     "output_type": "execute_result"
    }
   ],
   "source": [
    "df2=pd.read_clipboard()\n",
    "df2"
   ]
  },
  {
   "cell_type": "code",
   "execution_count": 263,
   "id": "237fe77a",
   "metadata": {},
   "outputs": [],
   "source": [
    "pd.merge?"
   ]
  },
  {
   "cell_type": "code",
   "execution_count": 264,
   "id": "c1599977",
   "metadata": {},
   "outputs": [
    {
     "data": {
      "text/html": [
       "<div>\n",
       "<style scoped>\n",
       "    .dataframe tbody tr th:only-of-type {\n",
       "        vertical-align: middle;\n",
       "    }\n",
       "\n",
       "    .dataframe tbody tr th {\n",
       "        vertical-align: top;\n",
       "    }\n",
       "\n",
       "    .dataframe thead th {\n",
       "        text-align: right;\n",
       "    }\n",
       "</style>\n",
       "<table border=\"1\" class=\"dataframe\">\n",
       "  <thead>\n",
       "    <tr style=\"text-align: right;\">\n",
       "      <th></th>\n",
       "      <th>ID</th>\n",
       "      <th>Candidate_Name</th>\n",
       "      <th>Subject</th>\n",
       "      <th>City</th>\n",
       "      <th>Subject_Score</th>\n",
       "    </tr>\n",
       "  </thead>\n",
       "  <tbody>\n",
       "    <tr>\n",
       "      <th>0</th>\n",
       "      <td>101</td>\n",
       "      <td>Alex</td>\n",
       "      <td>History</td>\n",
       "      <td>Delhi</td>\n",
       "      <td>89</td>\n",
       "    </tr>\n",
       "    <tr>\n",
       "      <th>1</th>\n",
       "      <td>102</td>\n",
       "      <td>Amy</td>\n",
       "      <td>English</td>\n",
       "      <td>Mumbai</td>\n",
       "      <td>78</td>\n",
       "    </tr>\n",
       "    <tr>\n",
       "      <th>2</th>\n",
       "      <td>103</td>\n",
       "      <td>Allen</td>\n",
       "      <td>Geography</td>\n",
       "      <td>Delhi</td>\n",
       "      <td>77</td>\n",
       "    </tr>\n",
       "    <tr>\n",
       "      <th>3</th>\n",
       "      <td>104</td>\n",
       "      <td>Alice</td>\n",
       "      <td>German</td>\n",
       "      <td>Chennai</td>\n",
       "      <td>87</td>\n",
       "    </tr>\n",
       "    <tr>\n",
       "      <th>4</th>\n",
       "      <td>105</td>\n",
       "      <td>James</td>\n",
       "      <td>History</td>\n",
       "      <td>Hyderabad</td>\n",
       "      <td>87</td>\n",
       "    </tr>\n",
       "    <tr>\n",
       "      <th>5</th>\n",
       "      <td>108</td>\n",
       "      <td>NaN</td>\n",
       "      <td>NaN</td>\n",
       "      <td>Delhi</td>\n",
       "      <td>84</td>\n",
       "    </tr>\n",
       "  </tbody>\n",
       "</table>\n",
       "</div>"
      ],
      "text/plain": [
       "    ID Candidate_Name    Subject       City  Subject_Score\n",
       "0  101           Alex    History      Delhi             89\n",
       "1  102            Amy    English     Mumbai             78\n",
       "2  103          Allen  Geography      Delhi             77\n",
       "3  104          Alice     German    Chennai             87\n",
       "4  105          James    History  Hyderabad             87\n",
       "5  108            NaN        NaN      Delhi             84"
      ]
     },
     "execution_count": 264,
     "metadata": {},
     "output_type": "execute_result"
    }
   ],
   "source": [
    "pd.merge(df1,df2,how=\"right\",on=\"ID\")"
   ]
  },
  {
   "cell_type": "code",
   "execution_count": null,
   "id": "966a76b6",
   "metadata": {},
   "outputs": [],
   "source": []
  }
 ],
 "metadata": {
  "kernelspec": {
   "display_name": "Python 3 (ipykernel)",
   "language": "python",
   "name": "python3"
  },
  "language_info": {
   "codemirror_mode": {
    "name": "ipython",
    "version": 3
   },
   "file_extension": ".py",
   "mimetype": "text/x-python",
   "name": "python",
   "nbconvert_exporter": "python",
   "pygments_lexer": "ipython3",
   "version": "3.11.7"
  }
 },
 "nbformat": 4,
 "nbformat_minor": 5
}
